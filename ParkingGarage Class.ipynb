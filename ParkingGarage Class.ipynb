{
 "cells": [
  {
   "cell_type": "markdown",
   "id": "210aa568",
   "metadata": {},
   "source": [
    "# Your assignment for today is to create a parking garage class to get more familiar with Object Oriented Programming(OOP). \n",
    "\n",
    "\n",
    "Your parking garage class should have the following methods:\n",
    "- takeTicket\n",
    "- This should decrease the amount of tickets available by 1\n",
    "- This should decrease the amount of parkingSpaces available by 1\n",
    "- payForParking\n",
    "- Display an input that waits for an amount from the user and store it in a variable\n",
    "- If the payment variable is not empty then (meaning the ticket has been paid) -> display a message to the user that their ticket has been paid and they have 15mins to leave\n",
    "- This should update the \"currentTicket\" dictionary key \"paid\" to True\n",
    "-leaveGarage\n",
    "- If the ticket has been paid, display a message of \"Thank You, have a nice day\"\n",
    "- If the ticket has not been paid, display an input prompt for payment\n",
    "- Once paid, display message \"Thank you, have a nice day!\"\n",
    "- Update parkingSpaces list to increase by 1 (meaning add to the parkingSpaces list)\n",
    "- Update tickets list to increase by 1 (meaning add to the tickets list)\n",
    "\n",
    "You will need a few attributes as well:\n",
    "- tickets -> list\n",
    "- parkingSpaces -> list\n",
    "- currentTicket -> dictionary\n",
    "\n",
    "By the end of this project each student should be able to:\n",
    "- Explain and/or demonstrate creating classes\n",
    "- Explain and/or demonstrate creating class methods\n",
    "- Explain and/or demonstrate class instantiation\n",
    "\n",
    "\n",
    "When the project is completed, commit the final changes and submit your GitHub link.\n"
   ]
  },
  {
   "cell_type": "code",
   "execution_count": 40,
   "id": "5a69aaae",
   "metadata": {},
   "outputs": [
    {
     "name": "stdout",
     "output_type": "stream",
     "text": [
      "Your ticket number is 1. Have a great day.\n",
      "Your ticket number is 2. Have a great day.\n",
      "Your ticket number is 3. Have a great day.\n",
      "Your ticket number is 4. Have a great day.\n",
      "Your ticket number is 5. Have a great day.\n",
      "Your ticket number is 6. Have a great day.\n",
      "What is your ticket number?\n",
      "2\n",
      "Thank you for your business! Please leave in 15 minutes\n",
      "Please provide parking number for payment verification:\n",
      "2\n",
      "Your ticket number is 1. Have a great day.\n",
      "Your ticket number is 2. Have a great day.\n",
      "Your ticket number is 3. Have a great day.\n"
     ]
    },
    {
     "data": {
      "text/plain": [
       "'Sorry the lot is full.'"
      ]
     },
     "execution_count": 40,
     "metadata": {},
     "output_type": "execute_result"
    }
   ],
   "source": [
    "class ParkingGarage:\n",
    "    def __init__(self, total_spaces):\n",
    "        self.currentTicket = {}\n",
    "        self.parkingSpaces = [i for i in range(1, total_spaces+1)]\n",
    "        self.tickets = []\n",
    "        \n",
    "    def takeTicket(self):\n",
    "        if len(self.parkingSpaces) == 0:\n",
    "            return 'Sorry the lot is full.'\n",
    "        else: \n",
    "            ticket_number = self.parkingSpaces.pop(0)\n",
    "            self.tickets.append(ticket_number)\n",
    "            self.currentTicket[ticket_number] = False\n",
    "            print(f'Your ticket number is {ticket_number}. Have a great day.')\n",
    "        \n",
    "            \n",
    "            \n",
    "    def payForParking(self):\n",
    "        ticket_num = int(input(\"What is your ticket number?\\n\"))\n",
    "        if ticket_num not in self.tickets:\n",
    "            return 'That ticket number is invalid'\n",
    "        else: \n",
    "            self.currentTicket[ticket_num] = True \n",
    "            print('Thank you for your business! Please leave in 15 minutes')\n",
    "            \n",
    "    def leaveGarage(self):\n",
    "        ticket_number = int(input(\"Please provide parking number for payment verification:\\n\"))\n",
    "        if self.currentTicket[ticket_number] == True:\n",
    "            return f'Thank you for parking. Enjoy your day.'\n",
    "            self.tickets.remove(ticket_number)\n",
    "            self.parkingSpaces.append(ticket_number)\n",
    "            self.currentTicket[ticket_num] = False\n",
    "        else: \n",
    "            return 'Please pay your parking ticket'\n",
    "            \n",
    "CostCo = ParkingGarage(10)\n",
    "Walmart = ParkingGarage(3)\n",
    "\n",
    "CostCo.takeTicket()\n",
    "CostCo.takeTicket()\n",
    "CostCo.takeTicket()\n",
    "CostCo.takeTicket()\n",
    "CostCo.takeTicket()\n",
    "CostCo.takeTicket()\n",
    "CostCo.payForParking()\n",
    "CostCo.leaveGarage()\n",
    "\n",
    "Walmart.takeTicket()\n",
    "Walmart.takeTicket()\n",
    "Walmart.takeTicket()\n",
    "Walmart.takeTicket()\n",
    "\n"
   ]
  }
 ],
 "metadata": {
  "kernelspec": {
   "display_name": "Python 3 (ipykernel)",
   "language": "python",
   "name": "python3"
  },
  "language_info": {
   "codemirror_mode": {
    "name": "ipython",
    "version": 3
   },
   "file_extension": ".py",
   "mimetype": "text/x-python",
   "name": "python",
   "nbconvert_exporter": "python",
   "pygments_lexer": "ipython3",
   "version": "3.9.13"
  }
 },
 "nbformat": 4,
 "nbformat_minor": 5
}
